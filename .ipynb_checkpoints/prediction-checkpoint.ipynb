{
 "cells": [
  {
   "cell_type": "code",
   "execution_count": 1,
   "metadata": {},
   "outputs": [],
   "source": [
    "import pandas as pd\n",
    "import numpy as np\n",
    "import ast\n",
    "import pickle"
   ]
  },
  {
   "cell_type": "code",
   "execution_count": 8,
   "metadata": {},
   "outputs": [],
   "source": [
    "all_fp = pd.read_csv('data/predictdata.csv')\n",
    "#all_fp = pd.read_csv('data/validationdata.csv')"
   ]
  },
  {
   "cell_type": "markdown",
   "metadata": {},
   "source": [
    "# 2-class Prediction"
   ]
  },
  {
   "cell_type": "code",
   "execution_count": 21,
   "metadata": {},
   "outputs": [
    {
     "name": "stderr",
     "output_type": "stream",
     "text": [
      "/opt/anaconda3/envs/potential/lib/python3.6/site-packages/sklearn/base.py:334: UserWarning: Trying to unpickle estimator DecisionTreeClassifier from version 0.22 when using version 0.23.1. This might lead to breaking code or invalid results. Use at your own risk.\n",
      "  UserWarning)\n",
      "/opt/anaconda3/envs/potential/lib/python3.6/site-packages/sklearn/base.py:334: UserWarning: Trying to unpickle estimator RandomForestClassifier from version 0.22 when using version 0.23.1. This might lead to breaking code or invalid results. Use at your own risk.\n",
      "  UserWarning)\n"
     ]
    },
    {
     "data": {
      "text/html": [
       "<div>\n",
       "<style scoped>\n",
       "    .dataframe tbody tr th:only-of-type {\n",
       "        vertical-align: middle;\n",
       "    }\n",
       "\n",
       "    .dataframe tbody tr th {\n",
       "        vertical-align: top;\n",
       "    }\n",
       "\n",
       "    .dataframe thead th {\n",
       "        text-align: right;\n",
       "    }\n",
       "</style>\n",
       "<table border=\"1\" class=\"dataframe\">\n",
       "  <thead>\n",
       "    <tr style=\"text-align: right;\">\n",
       "      <th></th>\n",
       "      <th>2class_prediction</th>\n",
       "    </tr>\n",
       "  </thead>\n",
       "  <tbody>\n",
       "    <tr>\n",
       "      <th>0</th>\n",
       "      <td>1</td>\n",
       "    </tr>\n",
       "    <tr>\n",
       "      <th>1</th>\n",
       "      <td>1</td>\n",
       "    </tr>\n",
       "    <tr>\n",
       "      <th>2</th>\n",
       "      <td>1</td>\n",
       "    </tr>\n",
       "    <tr>\n",
       "      <th>3</th>\n",
       "      <td>1</td>\n",
       "    </tr>\n",
       "    <tr>\n",
       "      <th>4</th>\n",
       "      <td>1</td>\n",
       "    </tr>\n",
       "    <tr>\n",
       "      <th>5</th>\n",
       "      <td>1</td>\n",
       "    </tr>\n",
       "    <tr>\n",
       "      <th>6</th>\n",
       "      <td>1</td>\n",
       "    </tr>\n",
       "    <tr>\n",
       "      <th>7</th>\n",
       "      <td>1</td>\n",
       "    </tr>\n",
       "    <tr>\n",
       "      <th>8</th>\n",
       "      <td>1</td>\n",
       "    </tr>\n",
       "    <tr>\n",
       "      <th>9</th>\n",
       "      <td>1</td>\n",
       "    </tr>\n",
       "  </tbody>\n",
       "</table>\n",
       "</div>"
      ],
      "text/plain": [
       "   2class_prediction\n",
       "0                  1\n",
       "1                  1\n",
       "2                  1\n",
       "3                  1\n",
       "4                  1\n",
       "5                  1\n",
       "6                  1\n",
       "7                  1\n",
       "8                  1\n",
       "9                  1"
      ]
     },
     "execution_count": 21,
     "metadata": {},
     "output_type": "execute_result"
    }
   ],
   "source": [
    "model_2class = pickle.load( open(\"models/rf_ml_2class.pkl\", \"rb\" ) )\n",
    "\n",
    "# Check if all fingerprint columns used for SVM model exist for new MOFs\n",
    "for j in range(len(model_2class.Xcols)):\n",
    "    if model_2class.Xcols[j] in all_fp.columns:\n",
    "        continue\n",
    "    else:\n",
    "        print('Column not found:',model_2class.Xcols[j],'Adding to fingerprint')\n",
    "        all_fp[model_2class.Xcols[j]]=0\n",
    "\n",
    "\n",
    "X = all_fp[model_2class.Xcols].values\n",
    "\n",
    "prediction = model_2class.predict(X)*-1   # Swapping label, since 2-class model is trained with opposite labels\n",
    "\n",
    "prob = model_2class.predict_proba(X)\n",
    "prob[:,[0, 1]] = prob[:,[1, 0]]   # Making 1st column for unstable and 2nd column for stable\n",
    "\n",
    "pred2class = pd.DataFrame(prediction, columns=['2class_prediction'])\n",
    "pred2class"
   ]
  },
  {
   "cell_type": "code",
   "execution_count": 22,
   "metadata": {},
   "outputs": [],
   "source": [
    "pred2class['prob_class-1'] = prob[:,0]\n",
    "pred2class['prob_class1'] = prob[:,1]"
   ]
  },
  {
   "cell_type": "code",
   "execution_count": 23,
   "metadata": {},
   "outputs": [],
   "source": [
    "pred2class = pd.concat([pred2class, all_fp[['ID','Activated Formula']]], axis=1, sort=False)"
   ]
  },
  {
   "cell_type": "code",
   "execution_count": 24,
   "metadata": {},
   "outputs": [],
   "source": [
    "pred2class.to_csv('prediction/2class_validation.csv')\n",
    "#pred2class.to_csv('prediction/2class_prediction.csv')"
   ]
  },
  {
   "cell_type": "markdown",
   "metadata": {},
   "source": [
    "# 3-class Prediction"
   ]
  },
  {
   "cell_type": "code",
   "execution_count": 9,
   "metadata": {},
   "outputs": [
    {
     "name": "stdout",
     "output_type": "stream",
     "text": [
      "Column not found: L_afpC3_C3_F1\n",
      "Column not found: L_efpfam_ketone\n"
     ]
    }
   ],
   "source": [
    "model_3class = pickle.load(open(\"models/svm_ml_3class.pkl\", \"rb\" ) )\n",
    "\n",
    "# Check if all fingerprint columns used for SVM model exist for new MOFs\n",
    "for j in range(len(model_3class.Xcols)):\n",
    "    if model_3class.Xcols[j] in all_fp.columns:\n",
    "        continue\n",
    "    else:\n",
    "        print('Column not found:',model_3class.Xcols[j])\n",
    "        all_fp[model_3class.Xcols[j]]=0\n",
    "\n",
    "\n",
    "X = all_fp[model_3class.Xcols].values\n",
    "prediction = model_3class.predict(X)\n",
    "\n",
    "prob = model_3class.predict_proba(X)\n",
    "\n",
    "pred3class = pd.DataFrame(prediction, columns=['3class_prediction'])"
   ]
  },
  {
   "cell_type": "code",
   "execution_count": 10,
   "metadata": {},
   "outputs": [],
   "source": [
    "pred3class['prob_class-1'] = prob[:,0]\n",
    "pred3class['prob_class0'] = prob[:,1]\n",
    "pred3class['prob_class1'] = prob[:,2]"
   ]
  },
  {
   "cell_type": "code",
   "execution_count": 11,
   "metadata": {},
   "outputs": [],
   "source": [
    "pred3class = pd.concat([pred3class, all_fp[['ID','Activated Formula']]], axis=1, sort=False)\n"
   ]
  },
  {
   "cell_type": "code",
   "execution_count": 12,
   "metadata": {},
   "outputs": [],
   "source": [
    "#pred3class.to_csv('prediction/3class_validation.csv')\n",
    "pred3class.to_csv('prediction/3class_prediction.csv')"
   ]
  },
  {
   "cell_type": "code",
   "execution_count": null,
   "metadata": {},
   "outputs": [],
   "source": []
  }
 ],
 "metadata": {
  "kernelspec": {
   "display_name": "Python 3",
   "language": "python",
   "name": "python3"
  },
  "language_info": {
   "codemirror_mode": {
    "name": "ipython",
    "version": 3
   },
   "file_extension": ".py",
   "mimetype": "text/x-python",
   "name": "python",
   "nbconvert_exporter": "python",
   "pygments_lexer": "ipython3",
   "version": "3.7.4"
  }
 },
 "nbformat": 4,
 "nbformat_minor": 4
}
